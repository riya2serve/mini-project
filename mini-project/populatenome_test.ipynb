{
 "cells": [
  {
   "cell_type": "code",
   "execution_count": null,
   "id": "ff63d2f5-e431-41d8-a3c3-ff66d1ead3f3",
   "metadata": {},
   "outputs": [],
   "source": [
    "from Bio import Entrez, SeqIO\n",
    "import random\n",
    "import os"
   ]
  },
  {
   "cell_type": "code",
   "execution_count": null,
   "id": "48be1a20-97a7-41dd-9982-9e807beff3dc",
   "metadata": {},
   "outputs": [],
   "source": [
    "#dependency to check: NCBI Datasets CLI\n",
    "#'conda install -c conda-forge ncbi-datasets-cli'\n",
    "\n",
    "#if the download using CLI fails, you can use manual FTP download\n",
    "#'wget -r -np -nH --cut-dirs=7 -R index.html* \\\n",
    "#ftp://ftp.ncbi.nlm.nih.gov/genomes/all/GCF/020/520/425/GCF_020520425.1/"
   ]
  },
  {
   "cell_type": "code",
   "execution_count": 2,
   "id": "4ecd6654-8127-4412-afc4-1cd075fd441f",
   "metadata": {},
   "outputs": [],
   "source": [
    "#creating two variant parental genome VCF files\n",
    "spinach_FASTA = \"/spinach_genome/ncbi_dataset/data/GCF_020520425.1/GCF_020520425.1_BTI_SOV_V1_genomic.fna\""
   ]
  },
  {
   "cell_type": "code",
   "execution_count": null,
   "id": "c39764dd-584e-4433-9612-63c34ec5ef57",
   "metadata": {},
   "outputs": [],
   "source": []
  }
 ],
 "metadata": {
  "kernelspec": {
   "display_name": "Python 3 (ipykernel)",
   "language": "python",
   "name": "python3"
  },
  "language_info": {
   "codemirror_mode": {
    "name": "ipython",
    "version": 3
   },
   "file_extension": ".py",
   "mimetype": "text/x-python",
   "name": "python",
   "nbconvert_exporter": "python",
   "pygments_lexer": "ipython3",
   "version": "3.10.12"
  }
 },
 "nbformat": 4,
 "nbformat_minor": 5
}
