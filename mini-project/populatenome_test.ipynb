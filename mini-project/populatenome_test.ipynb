{
 "cells": [
  {
   "cell_type": "code",
   "execution_count": null,
   "id": "ff63d2f5-e431-41d8-a3c3-ff66d1ead3f3",
   "metadata": {},
   "outputs": [],
   "source": [
    "from Bio import Entrez, SeqIO"
   ]
  },
  {
   "cell_type": "code",
   "execution_count": null,
   "id": "48be1a20-97a7-41dd-9982-9e807beff3dc",
   "metadata": {},
   "outputs": [],
   "source": [
    "#provide an email bc NCBI requires it\n",
    "Entrez.email = \"rr3491@columbia.edu\""
   ]
  },
  {
   "cell_type": "code",
   "execution_count": null,
   "id": "4ecd6654-8127-4412-afc4-1cd075fd441f",
   "metadata": {},
   "outputs": [],
   "source": [
    "#let's create a function to fetch genome sequences from NCBI\n",
    "def fetch_nomes(accession_ids, output_folder = \"\"):\n",
    "    \"\"\"\n",
    "    This function will fetch genome sequences from NCBI using the accession numbers provided by the user.\n",
    "    Once located, the acessions will be saved as a FASTA file.\n",
    "\n",
    "    accession_ids (parameter): user to provide NCBI accession number\n",
    "    output_folder (parameter): folder to save the FASTA files (default: current user director)\n",
    "    \"\"\"\n",
    "\n",
    "    for accession_id in accession_ids:\n",
    "        output_fasta = f\"{output_folder}{accession_id}.fasta\"\n",
    "\n",
    "        try:\n",
    "            #fetch sequence(s) in FASTA format\n",
    "            genome = Entrez.efetch(db = \"nucleotide\", id = accession_id, rettype = \"fasta\", retmode = \"text\")\n",
    "\n",
    "            #save to output file\n",
    "            with open(output_fasta, \"w\") as file:\n",
    "                file.write(handle.read())\n",
    "\n",
    "            genome.close()\n",
    "            print(f\"Genome {accession_id} saved as {output_fasta}\")\n",
    "\n",
    "        except Exception as e:\n",
    "            print(f\"Error in fetching genome {accession_id}: {e}\")\n",
    "\n",
    "fetch_nomes([\"GCA_900095335.1\", \"\"]) \n",
    "#first genome is an S. latifolia (male)\n",
    "#second genome is an "
   ]
  },
  {
   "cell_type": "code",
   "execution_count": null,
   "id": "c39764dd-584e-4433-9612-63c34ec5ef57",
   "metadata": {},
   "outputs": [],
   "source": []
  }
 ],
 "metadata": {
  "kernelspec": {
   "display_name": "Python 3 (ipykernel)",
   "language": "python",
   "name": "python3"
  },
  "language_info": {
   "codemirror_mode": {
    "name": "ipython",
    "version": 3
   },
   "file_extension": ".py",
   "mimetype": "text/x-python",
   "name": "python",
   "nbconvert_exporter": "python",
   "pygments_lexer": "ipython3",
   "version": "3.10.12"
  }
 },
 "nbformat": 4,
 "nbformat_minor": 5
}
