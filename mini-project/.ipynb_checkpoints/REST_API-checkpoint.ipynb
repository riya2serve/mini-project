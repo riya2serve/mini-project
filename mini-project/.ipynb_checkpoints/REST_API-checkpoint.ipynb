{
 "cells": [
  {
   "cell_type": "code",
   "execution_count": 1,
   "id": "0da11816-cc74-425d-8067-887754d4f508",
   "metadata": {},
   "outputs": [],
   "source": [
    "import toyplot\n",
    "import requests\n",
    "import pandas as pd"
   ]
  },
  {
   "cell_type": "code",
   "execution_count": 2,
   "id": "c5a80247-d125-4708-8ca2-d657a6d9fa5c",
   "metadata": {},
   "outputs": [
    {
     "data": {
      "text/plain": [
       "'\\nGBIF can be used to find specimen collection records, or other types of observation data, stored in museum type databases. \\nThe website offers a convenient way to request taxa by name, and to select specific research criteria. \\n'"
      ]
     },
     "execution_count": 2,
     "metadata": {},
     "output_type": "execute_result"
    }
   ],
   "source": [
    "\"\"\"\n",
    "GBIF can be used to find specimen collection records, or other types of observation data, stored in museum type databases. \n",
    "The website offers a convenient way to request taxa by name, and to select specific research criteria. \n",
    "\"\"\""
   ]
  },
  {
   "cell_type": "code",
   "execution_count": 3,
   "id": "96f1142b-fa4b-4b8e-ac65-ea1c166a3aac",
   "metadata": {},
   "outputs": [],
   "source": [
    "# store the base url as a string variable\n",
    "baseurl = \"http://api.gbif.org/v1/occurrence/search?\""
   ]
  },
  {
   "cell_type": "code",
   "execution_count": 4,
   "id": "7b96da56-b9d6-4028-b5bf-7148244cfaf9",
   "metadata": {},
   "outputs": [],
   "source": [
    "# store a endpoint request as a string variable\n",
    "search_url = \"http://api.gbif.org/v1/occurrence/search?q=Bombus\""
   ]
  },
  {
   "cell_type": "markdown",
   "id": "902c982d-90c3-49e9-85c0-1d6cdaee6177",
   "metadata": {},
   "source": [
    "The requests package work a bit like an automated web browser. We've used requests briefly in the past but now we'll start to use it more effectively. The main function we will call is .get(), which will send a GET command (a form of HTTP method that the web is built on) to the web address and return a Response Class object. We will then access attributes and functions of the Response instance to see if our request worked, and to parse the resulting text from it. Let's try this on our search_url string defined above."
   ]
  },
  {
   "cell_type": "code",
   "execution_count": 5,
   "id": "8f12d63b-481a-4a1c-9828-4ab212d061c5",
   "metadata": {},
   "outputs": [],
   "source": [
    "# create a Response instance from a request\n",
    "response = requests.get(search_url)\n",
    "# check that your request worked (200 = worked; other codes No))\n",
    "response.status_code \n",
    "# or, run this to check if it worked.\n",
    "# This would return an error message if it didn't work (else None)\n",
    "response.raise_for_status()"
   ]
  },
  {
   "cell_type": "code",
   "execution_count": 6,
   "id": "ebaf76b7-7a6c-4998-860e-0d64fd13c86a",
   "metadata": {},
   "outputs": [
    {
     "data": {
      "text/plain": [
       "'{\"offset\":0,\"limit\":20,\"endOfRecords\":false,\"count\":3924237,\"results\":[{\"key\":1792076088,\"datasetKey\":\"4fa7b334-ce0d-4e88-aaae-2e0c138d049e\",\"publishingOrgKey\":\"e2e717bf-551a-4917-bdc9-4fa0f342c530\",\"installationKey\":\"7182d304-b0a2-404b-baba-2086a325c221\",\"hostingOrganizationKey\":\"e2e717bf-551a-4917-bdc9-4fa0f342c530\",\"publishingCountry\":\"EC\",\"protocol\":\"DWC_ARCHIVE\",\"lastCrawled\":\"2024-09-27T13:35:39.907+00:00\",\"lastParsed\":\"2025-02-05T01:03:29.507+00:00\",\"crawlId\":20,\"extensions\":{},\"basisOfRe'"
      ]
     },
     "execution_count": 6,
     "metadata": {},
     "output_type": "execute_result"
    }
   ],
   "source": [
    "# first 500 characters of the .text string from GBIF API query\n",
    "response.text[:500]"
   ]
  },
  {
   "cell_type": "code",
   "execution_count": 7,
   "id": "88315a8c-efcc-4e25-aded-26700f5d8384",
   "metadata": {},
   "outputs": [
    {
     "data": {
      "text/plain": [
       "['offset', 'limit', 'endOfRecords', 'count', 'results', 'facets']"
      ]
     },
     "execution_count": 7,
     "metadata": {},
     "output_type": "execute_result"
    }
   ],
   "source": [
    "# or, get results as a dictionary (JSON converted)\n",
    "rdict = response.json()\n",
    "\n",
    "# get some quick info on the dictionary keys\n",
    "list(rdict.keys())"
   ]
  },
  {
   "cell_type": "code",
   "execution_count": 8,
   "id": "ecace344-b9b2-4d82-a405-f0e9007300d4",
   "metadata": {},
   "outputs": [
    {
     "data": {
      "text/plain": [
       "3924237"
      ]
     },
     "execution_count": 8,
     "metadata": {},
     "output_type": "execute_result"
    }
   ],
   "source": [
    "## how many records are there for this query\n",
    "rdict[\"count\"]"
   ]
  },
  {
   "cell_type": "code",
   "execution_count": 9,
   "id": "445c387a-b793-4b90-b9e8-8fdfa5f3ad3b",
   "metadata": {},
   "outputs": [
    {
     "data": {
      "text/plain": [
       "20"
      ]
     },
     "execution_count": 9,
     "metadata": {},
     "output_type": "execute_result"
    }
   ],
   "source": [
    "## how many records were returned\n",
    "rdict[\"limit\"]"
   ]
  },
  {
   "cell_type": "code",
   "execution_count": 10,
   "id": "bf9ed420-8c38-4289-be29-a7715294c229",
   "metadata": {},
   "outputs": [
    {
     "data": {
      "text/plain": [
       "0"
      ]
     },
     "execution_count": 10,
     "metadata": {},
     "output_type": "execute_result"
    }
   ],
   "source": [
    "## starting from which record\n",
    "rdict[\"offset\"]"
   ]
  },
  {
   "cell_type": "code",
   "execution_count": 11,
   "id": "7e6fa52b-a8e9-4f52-9857-a2d613f72ef6",
   "metadata": {},
   "outputs": [
    {
     "data": {
      "text/plain": [
       "{'key': 1792076088,\n",
       " 'datasetKey': '4fa7b334-ce0d-4e88-aaae-2e0c138d049e',\n",
       " 'publishingOrgKey': 'e2e717bf-551a-4917-bdc9-4fa0f342c530',\n",
       " 'installationKey': '7182d304-b0a2-404b-baba-2086a325c221',\n",
       " 'hostingOrganizationKey': 'e2e717bf-551a-4917-bdc9-4fa0f342c530',\n",
       " 'publishingCountry': 'EC',\n",
       " 'protocol': 'DWC_ARCHIVE',\n",
       " 'lastCrawled': '2024-09-27T13:35:39.907+00:00',\n",
       " 'lastParsed': '2025-02-05T01:03:29.507+00:00',\n",
       " 'crawlId': 20,\n",
       " 'extensions': {},\n",
       " 'basisOfRecord': 'HUMAN_OBSERVATION',\n",
       " 'individualCount': 1,\n",
       " 'occurrenceStatus': 'PRESENT',\n",
       " 'taxonKey': 5228583,\n",
       " 'kingdomKey': 1,\n",
       " 'phylumKey': 44,\n",
       " 'classKey': 212,\n",
       " 'orderKey': 1448,\n",
       " 'familyKey': 5289,\n",
       " 'genusKey': 2476913,\n",
       " 'speciesKey': 5228583,\n",
       " 'acceptedTaxonKey': 5228583,\n",
       " 'scientificName': 'Chaetocercus bombus Gould, 1871',\n",
       " 'acceptedScientificName': 'Chaetocercus bombus Gould, 1871',\n",
       " 'kingdom': 'Animalia',\n",
       " 'phylum': 'Chordata',\n",
       " 'order': 'Apodiformes',\n",
       " 'family': 'Trochilidae',\n",
       " 'genus': 'Chaetocercus',\n",
       " 'species': 'Chaetocercus bombus',\n",
       " 'genericName': 'Chaetocercus',\n",
       " 'specificEpithet': 'bombus',\n",
       " 'taxonRank': 'SPECIES',\n",
       " 'taxonomicStatus': 'ACCEPTED',\n",
       " 'iucnRedListCategory': 'NT',\n",
       " 'decimalLatitude': -4.090851,\n",
       " 'decimalLongitude': -78.95827,\n",
       " 'continent': 'SOUTH_AMERICA',\n",
       " 'stateProvince': 'Zamora-Chinchipe',\n",
       " 'gadm': {'level0': {'gid': 'ECU', 'name': 'Ecuador'},\n",
       "  'level1': {'gid': 'ECU.24_1', 'name': 'Zamora Chinchipe'},\n",
       "  'level2': {'gid': 'ECU.24.9_1', 'name': 'Zamora'},\n",
       "  'level3': {'gid': 'ECU.24.9.7_1', 'name': 'Zamora'}},\n",
       " 'year': 2016,\n",
       " 'month': 10,\n",
       " 'day': 15,\n",
       " 'eventDate': '2016-10-15',\n",
       " 'startDayOfYear': 289,\n",
       " 'endDayOfYear': 289,\n",
       " 'issues': ['COORDINATE_ROUNDED',\n",
       "  'CONTINENT_DERIVED_FROM_COORDINATES',\n",
       "  'TAXON_MATCH_TAXON_CONCEPT_ID_IGNORED'],\n",
       " 'lastInterpreted': '2025-02-05T01:03:29.507+00:00',\n",
       " 'license': 'http://creativecommons.org/licenses/by/4.0/legalcode',\n",
       " 'isSequenced': False,\n",
       " 'identifiers': [{'identifier': 'OBS530014911'}],\n",
       " 'media': [],\n",
       " 'facts': [],\n",
       " 'relations': [],\n",
       " 'isInCluster': False,\n",
       " 'recordedBy': 'obsr288361',\n",
       " 'geodeticDatum': 'WGS84',\n",
       " 'class': 'Aves',\n",
       " 'countryCode': 'EC',\n",
       " 'recordedByIDs': [],\n",
       " 'identifiedByIDs': [],\n",
       " 'gbifRegion': 'LATIN_AMERICA',\n",
       " 'country': 'Ecuador',\n",
       " 'publishedByGbifRegion': 'LATIN_AMERICA',\n",
       " 'identifier': 'OBS530014911',\n",
       " 'catalogNumber': 'OBS530014911',\n",
       " 'vernacularName': 'Little Woodstar',\n",
       " 'institutionCode': 'CLO',\n",
       " 'taxonConceptID': 'avibase-E15587CB',\n",
       " 'locality': 'Copalinga Lodge',\n",
       " 'gbifID': '1792076088',\n",
       " 'collectionCode': 'EBIRD',\n",
       " 'occurrenceID': 'URN:catalog:CLO:EBIRD:OBS530014911'}"
      ]
     },
     "execution_count": 11,
     "metadata": {},
     "output_type": "execute_result"
    }
   ],
   "source": [
    "# here is the first record, it's also a dictionary\n",
    "rdict[\"results\"][0]"
   ]
  },
  {
   "cell_type": "code",
   "execution_count": 14,
   "id": "c90755b5-d2fb-4e09-9847-501edd35e260",
   "metadata": {},
   "outputs": [
    {
     "data": {
      "text/plain": [
       "Index(['key', 'datasetKey', 'publishingOrgKey', 'installationKey',\n",
       "       'hostingOrganizationKey', 'publishingCountry', 'protocol',\n",
       "       'lastCrawled', 'lastParsed', 'crawlId', 'basisOfRecord',\n",
       "       'individualCount', 'occurrenceStatus', 'taxonKey', 'kingdomKey',\n",
       "       'phylumKey', 'classKey', 'orderKey', 'familyKey', 'genusKey',\n",
       "       'speciesKey', 'acceptedTaxonKey', 'scientificName',\n",
       "       'acceptedScientificName', 'kingdom', 'phylum', 'order', 'family',\n",
       "       'genus', 'species', 'genericName', 'specificEpithet', 'taxonRank',\n",
       "       'taxonomicStatus', 'iucnRedListCategory', 'decimalLatitude',\n",
       "       'decimalLongitude', 'continent', 'stateProvince', 'year', 'month',\n",
       "       'day', 'eventDate', 'startDayOfYear', 'endDayOfYear', 'issues',\n",
       "       'lastInterpreted', 'license', 'isSequenced', 'identifiers', 'media',\n",
       "       'facts', 'relations', 'isInCluster', 'recordedBy', 'geodeticDatum',\n",
       "       'class', 'countryCode', 'recordedByIDs', 'identifiedByIDs',\n",
       "       'gbifRegion', 'country', 'publishedByGbifRegion', 'identifier',\n",
       "       'catalogNumber', 'vernacularName', 'institutionCode', 'taxonConceptID',\n",
       "       'locality', 'gbifID', 'collectionCode', 'occurrenceID',\n",
       "       'gadm.level0.gid', 'gadm.level0.name', 'gadm.level1.gid',\n",
       "       'gadm.level1.name', 'gadm.level2.gid', 'gadm.level2.name',\n",
       "       'gadm.level3.gid', 'gadm.level3.name'],\n",
       "      dtype='object')"
      ]
     },
     "execution_count": 14,
     "metadata": {},
     "output_type": "execute_result"
    }
   ],
   "source": [
    "# load as a dataframe\n",
    "sdf = pd.json_normalize(rdict['results'])\n",
    "#sdf.head() load first few rows \n",
    "sdf.columns"
   ]
  },
  {
   "cell_type": "code",
   "execution_count": 15,
   "id": "c0e1f5c5-c234-4542-9f25-c2daccfc9b49",
   "metadata": {},
   "outputs": [
    {
     "name": "stdout",
     "output_type": "stream",
     "text": [
      "https://api.gbif.org/v1/occurrence/search/?q=Bombus\n"
     ]
    }
   ],
   "source": [
    "# here we create the same urlpath using params\n",
    "response = requests.get(\n",
    "    url=\"https://api.gbif.org/v1/occurrence/search/\",\n",
    "    params={\"q\": \"Bombus\"} #this returns results that don't necessarily contain Bombus in the 'genus'; HOW do we address this??\n",
    ")\n",
    "\n",
    "# show url path\n",
    "print(response.url)"
   ]
  },
  {
   "cell_type": "markdown",
   "id": "6399d02c-eb6e-46b0-b47e-743dfd9725ab",
   "metadata": {},
   "source": [
    "If you looked closely at the results above you may have noticed that the records returned are not actually all for organisms in the genus Bombus. Instead results include things like Chaetocercus bombus and other organisms that happen to have \"bombus\" in their names.\n",
    "\n",
    "This is why its important to look closely at your data. Looking back at the documentation we can see that the 'q=something' search parameter returns a fuzzy hit to anything that has the query in its data. If we instead want to restrict to the genus Bombus we need to find the genusKey for Bombus. This can be found using the 'species' endpoint in the API. So let's take a side track to find this. Note we are searching a different baseurl now, to look in the 'species' path instead of the 'occurrence' path.\n",
    "\n",
    "The results below provide unique identifiers that are more reliable for searching the database. We will use the genusKey=1340278 for our next search of the occurrence database."
   ]
  },
  {
   "cell_type": "code",
   "execution_count": 16,
   "id": "2bfd04b4-bcdc-4aeb-a9cc-2e7daa9ce12a",
   "metadata": {},
   "outputs": [
    {
     "data": {
      "text/plain": [
       "{'usageKey': 1340278,\n",
       " 'scientificName': 'Bombus Latreille, 1802',\n",
       " 'canonicalName': 'Bombus',\n",
       " 'rank': 'GENUS',\n",
       " 'status': 'ACCEPTED',\n",
       " 'confidence': 94,\n",
       " 'matchType': 'EXACT',\n",
       " 'kingdom': 'Animalia',\n",
       " 'phylum': 'Arthropoda',\n",
       " 'order': 'Hymenoptera',\n",
       " 'family': 'Apidae',\n",
       " 'genus': 'Bombus',\n",
       " 'kingdomKey': 1,\n",
       " 'phylumKey': 54,\n",
       " 'classKey': 216,\n",
       " 'orderKey': 1457,\n",
       " 'familyKey': 4334,\n",
       " 'genusKey': 1340278,\n",
       " 'synonym': False,\n",
       " 'class': 'Insecta'}"
      ]
     },
     "execution_count": 16,
     "metadata": {},
     "output_type": "execute_result"
    }
   ],
   "source": [
    "# get taxonomy info for the genus Bombus\n",
    "res = requests.get(\n",
    "    url=\"https://api.gbif.org/v1/species/match/\",\n",
    "    params={\"genus\": \"Bombus\"}, #passing a new parameter which is 'genus' to specify to query Bombus AND specifically only responses where Bombus is in the genus\n",
    ")\n",
    "#information returned is the genus key value; way of asking what the genus key is for Bombus\n",
    "res.json()"
   ]
  },
  {
   "cell_type": "markdown",
   "id": "e204996c-8315-4361-aa71-10d7060a9df2",
   "metadata": {},
   "source": [
    "Below I show the URL for when we add the requirement that a record have coordinate data, and for when we add additional arguments to raise the limit for the number of records returned. The max records at a time (limit - offset) is 300. Above that you need to increment the offset to search higher values. You can see that the URL is simply appending additional queries to the end after the ? symbol to build more complex queries."
   ]
  },
  {
   "cell_type": "code",
   "execution_count": 17,
   "id": "2d91f347-00fc-4994-bb47-b5a9be9760ca",
   "metadata": {},
   "outputs": [
    {
     "data": {
      "text/plain": [
       "'https://api.gbif.org/v1/occurrence/search/?genusKey=1340278&hasCoordinate=true'"
      ]
     },
     "execution_count": 17,
     "metadata": {},
     "output_type": "execute_result"
    }
   ],
   "source": [
    "# add requirement that the record have coordinate data\n",
    "res = requests.get(\n",
    "    url=\"https://api.gbif.org/v1/occurrence/search/\",\n",
    "    params={\n",
    "        \"genusKey\": 1340278, #fetched our query using genus key\n",
    "        \"hasCoordinate\": \"true\", #this means that GBIF has location data for ___ of interest \n",
    "    }\n",
    ")\n",
    "res.url #URL should only return us with Bombus genus \n",
    "#alternatively res.json()"
   ]
  },
  {
   "cell_type": "code",
   "execution_count": 18,
   "id": "107afde8-f2ee-4437-bbfd-138946ef202d",
   "metadata": {},
   "outputs": [
    {
     "data": {
      "text/plain": [
       "'https://api.gbif.org/v1/occurrence/search/?genusKey=1340278&hasCoordinate=true&offset=100&limit=20'"
      ]
     },
     "execution_count": 18,
     "metadata": {},
     "output_type": "execute_result"
    }
   ],
   "source": [
    "# request records 0-100\n",
    "res = requests.get(\n",
    "    url=\"https://api.gbif.org/v1/occurrence/search/\",\n",
    "    params={\n",
    "        \"genusKey\": 1340278, \n",
    "        \"hasCoordinate\": \"true\",\n",
    "        \"offset\": 100, #parameter to 'git call'\n",
    "        \"limit\": 20,\n",
    "    }\n",
    ")\n",
    "res.url"
   ]
  },
  {
   "cell_type": "markdown",
   "id": "4b14dd52-c862-40cf-a9d9-3d346fc7cf98",
   "metadata": {},
   "source": [
    "If we wanted to collect all records for a given search then we need to increment the \"offset\" argument until we reach the end of the records. Each is returned as a list of dictionaries, so we can just join all of those lists together and return them. That sounds a bit complex, so let's to it in two parts, first we'll write a function to fulfill a single request, and then a function to call many requests."
   ]
  },
  {
   "cell_type": "code",
   "execution_count": 19,
   "id": "2087c6cc-785c-46b6-a540-c224e763cdb3",
   "metadata": {},
   "outputs": [],
   "source": [
    "def get_single_batch(genusKey, year, offset=0, limit=20):\n",
    "    \"\"\"\n",
    "    Returns a GBIF REST query with records between offset\n",
    "    and offset + limit in JSON format. The genusKey and \n",
    "    year interval can be changed.\n",
    "    \"\"\"\n",
    "    res = requests.get(\n",
    "        url=\"https://api.gbif.org/v1/occurrence/search/\",\n",
    "        params={\n",
    "            \"genusKey\": genusKey,\n",
    "            \"year\": year,\n",
    "            \"offset\": offset,\n",
    "            \"limit\": limit,\n",
    "            \"hasCoordinate\": \"true\",\n",
    "            \"country\": \"US\",\n",
    "        }\n",
    "    )\n",
    "    return res.json()"
   ]
  },
  {
   "cell_type": "code",
   "execution_count": 20,
   "id": "74463ef5-446e-4269-97e1-71629cfda61e",
   "metadata": {},
   "outputs": [
    {
     "name": "stdout",
     "output_type": "stream",
     "text": [
      "20\n"
     ]
    }
   ],
   "source": [
    "# test single batch function\n",
    "jdata = get_single_batch(\n",
    "    genusKey=3171670,\n",
    "    year=\"1990,2020\",\n",
    "    offset=0, \n",
    "    limit=20\n",
    ")\n",
    "\n",
    "# how many results were fetched?\n",
    "print(len(jdata[\"results\"]))"
   ]
  },
  {
   "cell_type": "code",
   "execution_count": 21,
   "id": "f1d72c29-c453-4453-a300-da344475ef68",
   "metadata": {},
   "outputs": [
    {
     "data": {
      "text/plain": [
       "False"
      ]
     },
     "execution_count": 21,
     "metadata": {},
     "output_type": "execute_result"
    }
   ],
   "source": [
    "# did we reach the end of the records?\n",
    "jdata[\"endOfRecords\"]"
   ]
  },
  {
   "cell_type": "code",
   "execution_count": 22,
   "id": "11df9ba7-51bd-4986-ad70-d2e97ce61103",
   "metadata": {},
   "outputs": [],
   "source": [
    "def get_all_records(genusKey, year):\n",
    "    \"\"\"\n",
    "    Iterate requests over incremental offset positions until\n",
    "    all records have been fetched. When the last record has\n",
    "    been fetched the key 'endOfRecords' will be 'true'. Takes\n",
    "    the API params as a dictionary. Returns result as a list\n",
    "    of dictionaries.\n",
    "    \"\"\"\n",
    "    # for storing results\n",
    "    alldata = []\n",
    "\n",
    "    # continue until we call 'break'\n",
    "    offset = 0\n",
    "    while 1:\n",
    "\n",
    "        # get JSON data for a batch \n",
    "        jdata = get_single_batch(genusKey, year, offset, 300)\n",
    "\n",
    "        # increment counter by 300 (the max limit)\n",
    "        offset += 300\n",
    "\n",
    "        # add this batch of data to the growing list\n",
    "        alldata.extend(jdata[\"results\"])\n",
    "\n",
    "        # stop when end of record is reached\n",
    "        if jdata[\"endOfRecords\"]:\n",
    "            print(f'Done. Found {len(alldata)} records')\n",
    "            break\n",
    "\n",
    "        # print a dot on each rep to show progress\n",
    "        print('.', end='')\n",
    "\n",
    "    return alldata"
   ]
  },
  {
   "cell_type": "code",
   "execution_count": 23,
   "id": "5417993c-1ada-4345-92b7-380b44fae812",
   "metadata": {},
   "outputs": [
    {
     "name": "stdout",
     "output_type": "stream",
     "text": [
      "....Done. Found 1223 records\n"
     ]
    }
   ],
   "source": [
    "# call function to search over all offset values until end. \n",
    "# THIS MAY TAKE A FEW MINUTES TO RUN\n",
    "jdata = get_all_records(1340278, \"1900,1902\")"
   ]
  },
  {
   "cell_type": "code",
   "execution_count": 24,
   "id": "5ab06076-4cfc-4619-9d2d-2a98ce846fb0",
   "metadata": {},
   "outputs": [],
   "source": [
    "# convert to a data frame\n",
    "df = pd.json_normalize(jdata)"
   ]
  },
  {
   "cell_type": "code",
   "execution_count": 25,
   "id": "df9cb6b0-941e-42eb-bae1-29dd52428603",
   "metadata": {},
   "outputs": [
    {
     "data": {
      "text/html": [
       "<div>\n",
       "<style scoped>\n",
       "    .dataframe tbody tr th:only-of-type {\n",
       "        vertical-align: middle;\n",
       "    }\n",
       "\n",
       "    .dataframe tbody tr th {\n",
       "        vertical-align: top;\n",
       "    }\n",
       "\n",
       "    .dataframe thead th {\n",
       "        text-align: right;\n",
       "    }\n",
       "</style>\n",
       "<table border=\"1\" class=\"dataframe\">\n",
       "  <thead>\n",
       "    <tr style=\"text-align: right;\">\n",
       "      <th></th>\n",
       "      <th>species</th>\n",
       "      <th>year</th>\n",
       "      <th>decimalLatitude</th>\n",
       "      <th>decimalLongitude</th>\n",
       "    </tr>\n",
       "  </thead>\n",
       "  <tbody>\n",
       "    <tr>\n",
       "      <th>0</th>\n",
       "      <td>Bombus pensylvanicus</td>\n",
       "      <td>1902</td>\n",
       "      <td>39.980000</td>\n",
       "      <td>-82.980000</td>\n",
       "    </tr>\n",
       "    <tr>\n",
       "      <th>1</th>\n",
       "      <td>Bombus vosnesenskii</td>\n",
       "      <td>1902</td>\n",
       "      <td>38.187410</td>\n",
       "      <td>-122.520800</td>\n",
       "    </tr>\n",
       "    <tr>\n",
       "      <th>2</th>\n",
       "      <td>Bombus vosnesenskii</td>\n",
       "      <td>1902</td>\n",
       "      <td>37.399600</td>\n",
       "      <td>-121.799700</td>\n",
       "    </tr>\n",
       "    <tr>\n",
       "      <th>3</th>\n",
       "      <td>Bombus rufocinctus</td>\n",
       "      <td>1902</td>\n",
       "      <td>37.397444</td>\n",
       "      <td>-121.802593</td>\n",
       "    </tr>\n",
       "    <tr>\n",
       "      <th>4</th>\n",
       "      <td>Bombus californicus</td>\n",
       "      <td>1902</td>\n",
       "      <td>38.502220</td>\n",
       "      <td>-122.265280</td>\n",
       "    </tr>\n",
       "  </tbody>\n",
       "</table>\n",
       "</div>"
      ],
      "text/plain": [
       "                species  year  decimalLatitude  decimalLongitude\n",
       "0  Bombus pensylvanicus  1902        39.980000        -82.980000\n",
       "1   Bombus vosnesenskii  1902        38.187410       -122.520800\n",
       "2   Bombus vosnesenskii  1902        37.399600       -121.799700\n",
       "3    Bombus rufocinctus  1902        37.397444       -121.802593\n",
       "4   Bombus californicus  1902        38.502220       -122.265280"
      ]
     },
     "execution_count": 25,
     "metadata": {},
     "output_type": "execute_result"
    }
   ],
   "source": [
    "# keys (columns) in the dataframe (there are many!)\n",
    "list(df.columns)\n",
    "\n",
    "# view just the columns we're interested in for now.\n",
    "sdf = df[[\"species\", \"year\", \"decimalLatitude\", \"decimalLongitude\"]]\n",
    "sdf.head()"
   ]
  },
  {
   "cell_type": "code",
   "execution_count": null,
   "id": "b10c55ff-d954-4c29-b8c7-100dd9e37758",
   "metadata": {},
   "outputs": [],
   "source": []
  }
 ],
 "metadata": {
  "kernelspec": {
   "display_name": "Python 3 (ipykernel)",
   "language": "python",
   "name": "python3"
  },
  "language_info": {
   "codemirror_mode": {
    "name": "ipython",
    "version": 3
   },
   "file_extension": ".py",
   "mimetype": "text/x-python",
   "name": "python",
   "nbconvert_exporter": "python",
   "pygments_lexer": "ipython3",
   "version": "3.10.12"
  }
 },
 "nbformat": 4,
 "nbformat_minor": 5
}
