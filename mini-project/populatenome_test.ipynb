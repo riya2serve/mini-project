{
 "cells": [
  {
   "cell_type": "code",
   "execution_count": null,
   "id": "ff63d2f5-e431-41d8-a3c3-ff66d1ead3f3",
   "metadata": {},
   "outputs": [],
   "source": [
    "from Bio import Entrez, SeqIO\n",
    "import random\n",
    "import os\n",
    "import pandas as pd"
   ]
  },
  {
   "cell_type": "code",
   "execution_count": null,
   "id": "48be1a20-97a7-41dd-9982-9e807beff3dc",
   "metadata": {},
   "outputs": [],
   "source": [
    "#dependency to add to README: NCBI Datasets CLI\n",
    "#'conda install -c conda-forge ncbi-datasets-cli'\n",
    "\n",
    "#if the download using CLI fails, you can use manual FTP download\n",
    "#'wget -r -np -nH --cut-dirs=7 -R index.html* \\\n",
    "#ftp://ftp.ncbi.nlm.nih.gov/genomes/all/GCF/020/520/425/GCF_020520425.1/"
   ]
  },
  {
   "cell_type": "code",
   "execution_count": null,
   "id": "4ecd6654-8127-4412-afc4-1cd075fd441f",
   "metadata": {},
   "outputs": [],
   "source": [
    "#creating two variant parental genome VCF files\n",
    "spinach_FASTA = \"/Users/riyarampalli/spinach_genome/ncbi_dataset/data/GCF_020520425.1/GCF_020520425.1_BTI_SOV_V1_genomic.fna\""
   ]
  },
  {
   "cell_type": "code",
   "execution_count": null,
   "id": "d1a6bbb6-1a26-4f1f-8430-a752b073f82c",
   "metadata": {},
   "outputs": [],
   "source": [
    "#function for simulating SNPs\n",
    "def simulate_snps(spinach_FASTA, snp_count, output_VCF, parent_name = \"Parental\"):\n",
    "    \"\"\"\n",
    "    This function simulates random SNPS along a genome's FASTA file and create an output VCF file\n",
    "    arguments:\n",
    "        fasta_file (str) = path to the genome file\n",
    "        snp_count (int) = number of SNPs to simulate per individual\n",
    "        output_vcf (str) = output path for VCF file\n",
    "        parent_name (str) = name to assign to the VCF file\n",
    "    \"\"\"\n",
    "    sequences = list(SeqIO.parse(spinach_FASTA, \"fasta\"))\n",
    "    tot_nome_length = sum(len(seq) for seq in sequences)\n",
    "\n",
    "    print(f\"The total genome length is: {tot_nome_length:,} bp across {len(sequences)} chromosomes/contigs\")\n",
    "\n",
    "    #generate random SNP positions\n",
    "    snp_positions = random.sample(range(1,tot_nome_length), snp_count) #will create snps from 1bp to total bp\n",
    "    snp_positions.sort()\n",
    "\n",
    "    snp_by_chromosome = {} #storing snps per chromosome\n",
    "    nome_cursor = 0 #starting count at 0\n",
    "\n",
    "    for seq in sequences:\n",
    "        chrom = seq.id\n",
    "        chrom_length = len(seq)\n",
    "        chrom_snps = [] #empty list\n",
    "\n",
    "        while snp_positions and nome_cursor < snp_positions[0] <= nome_cursor + chrom_length:\n",
    "            pos_on_chrom = snp_positions[0] - nome_cursor #accesses first SNP position\n",
    "            ref_base = seq.seq[pos_on_chrom - 1].upper()\n",
    "\n",
    "            #what if the base is N or ambiguous??\n",
    "            if ref_base not in \"ACGT\":\n",
    "                continue \n",
    "            #choose an alternate base that is different from the reference\n",
    "            alt_base = random.choice([b for b in \"ACGT\" if b != ref_base])\n",
    "            chrom_snps.append((pos_on_chrom, ref_base, alt_base))\n",
    "\n",
    "        nome_cursor += chrom_length\n",
    "        if chrom_snps:\n",
    "            snps_by_chromosome[chrom] = chrom_snps\n",
    "\n",
    "    #generate VCF output \n",
    "    with open(output_VCF, \"w\") as vcf:\n",
    "        #create headers\n",
    "        vcf.write(\"##fileformate=VCFv.2\\n\")\n",
    "        vcf.write(f\"##source=Simulated_{parent_name}\\n\")\n",
    "        vcf.write(\"#CHROM\\tPOS\\tID\\tREF\\tALT\\tQUAL\\tFILTER\\tINFO\\tFORMAT\\t\" + parent_name + \"\\n\")\n",
    "\n",
    "        #write the SNPs\n",
    "        for chrom, snps in snps_by_chromosome.items():\n",
    "            for pos, ref, alt in snps:\n",
    "                vcf.write(f\"{chrom}\\t{pos}\\t.\\t{ref}\\t{alt}\\t.\\tPASS\\t.\\tGT\\t1/1\\n\")\n",
    "\n",
    "    print(f\"{parent_name} SNP VCF written to {output_VCF} with {snp_count} SNPs.\\n\")\n"
   ]
  },
  {
   "cell_type": "code",
   "execution_count": null,
   "id": "c39764dd-584e-4433-9612-63c34ec5ef57",
   "metadata": {},
   "outputs": [],
   "source": [
    "#defining number of SNPs to simulate per parent \n",
    "num_SNP = 1000\n",
    "\n",
    "#simulate parental 1 and 2 SNPs\n",
    "simulate_snps(spinach_FASTA, num_SNP, \"parent1.vcf\", parent_name = \"Parental 1\")\n",
    "simulate_snps(spinach_FASTA, num_SNP, \"parent2.vcf\", parent_name = \"Parental 2\")"
   ]
  },
  {
   "cell_type": "markdown",
   "id": "81429d26-15a8-4d61-a306-354e969fbd6c",
   "metadata": {},
   "source": [
    "I want to visualize the VCF files. Some common options for visualizing VCFs are: (1) SNP density plots that allow the user to see how the SNPs are distributed across the chromosomes, (2) variant calling, and (3)genome comparisons to see differences between genome 1 and genome 2, and (4)recombination inheritance."
   ]
  },
  {
   "cell_type": "code",
   "execution_count": null,
   "id": "77ffb965-513c-4437-b252-b4cf0b500f95",
   "metadata": {},
   "outputs": [],
   "source": [
    "#let's extract the exact chromosome SNPs and positions from the two VCF files\n",
    "\n",
    "def parse_vcfs(vcf_file):\n",
    "    \"\"\"\n",
    "    This function will allow you to parse a VCF file and return a dataframe containing chromosome numbers and positions\n",
    "    \"\"\"\n",
    "\n",
    "    variants = [] #creating an empty list\n",
    "\n",
    "    with open(vcf_file, 'r') as f:\n",
    "        for line in f:\n",
    "            if line.startswith('#'):\n",
    "                continue #skip because its a header\n",
    "            parts = line.strip().split('\\t')\n",
    "            chrom = parts[0]\n",
    "            pos = int(parts[1])\n",
    "            ref = parts[3]\n",
    "            alt = [4]\n",
    "            variants.append([chrom, pos, ref, alt])\n",
    "    df = pd.DataFrame(variants, columns = ['CHROM', 'POS', 'REF', 'ALT'])\n",
    "    return df"
   ]
  },
  {
   "cell_type": "code",
   "execution_count": null,
   "id": "f26e94d0-7f4d-4911-ae7d-68a2cf41d9b8",
   "metadata": {},
   "outputs": [],
   "source": [
    "parent1_df = parse_vcfs(\"parent1.vcf\")\n",
    "parent2_df = parse_vcfs(\"parent2.vcf\")\n",
    "\n",
    "parent1_df.head()"
   ]
  },
  {
   "cell_type": "code",
   "execution_count": null,
   "id": "a5a18831-386e-4d58-8e0a-74f75dd5067f",
   "metadata": {},
   "outputs": [],
   "source": []
  }
 ],
 "metadata": {
  "kernelspec": {
   "display_name": "Python 3 (ipykernel)",
   "language": "python",
   "name": "python3"
  },
  "language_info": {
   "codemirror_mode": {
    "name": "ipython",
    "version": 3
   },
   "file_extension": ".py",
   "mimetype": "text/x-python",
   "name": "python",
   "nbconvert_exporter": "python",
   "pygments_lexer": "ipython3",
   "version": "3.10.12"
  }
 },
 "nbformat": 4,
 "nbformat_minor": 5
}
