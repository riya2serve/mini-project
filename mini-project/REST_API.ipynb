{
 "cells": [
  {
   "cell_type": "code",
   "execution_count": 2,
   "id": "0da11816-cc74-425d-8067-887754d4f508",
   "metadata": {},
   "outputs": [],
   "source": [
    "import toyplot\n",
    "import requests\n",
    "import pandas as pd"
   ]
  },
  {
   "cell_type": "code",
   "execution_count": null,
   "id": "c5a80247-d125-4708-8ca2-d657a6d9fa5c",
   "metadata": {},
   "outputs": [],
   "source": [
    "\"\"\"\n",
    "GBIF can be used to find specimen collection records, or other types of observation data, stored in museum type databases. \n",
    "The website offers a convenient way to request taxa by name, and to select specific research criteria. \n",
    "\"\"\""
   ]
  },
  {
   "cell_type": "code",
   "execution_count": 3,
   "id": "96f1142b-fa4b-4b8e-ac65-ea1c166a3aac",
   "metadata": {},
   "outputs": [],
   "source": [
    "# store the base url as a string variable\n",
    "baseurl = \"http://api.gbif.org/v1/occurrence/search?\""
   ]
  },
  {
   "cell_type": "code",
   "execution_count": 4,
   "id": "7b96da56-b9d6-4028-b5bf-7148244cfaf9",
   "metadata": {},
   "outputs": [],
   "source": [
    "# store a endpoint request as a string variable\n",
    "search_url = \"http://api.gbif.org/v1/occurrence/search?q=Bombus\""
   ]
  },
  {
   "cell_type": "markdown",
   "id": "902c982d-90c3-49e9-85c0-1d6cdaee6177",
   "metadata": {},
   "source": [
    "The requests package work a bit like an automated web browser. We've used requests briefly in the past but now we'll start to use it more effectively. The main function we will call is .get(), which will send a GET command (a form of HTTP method that the web is built on) to the web address and return a Response Class object. We will then access attributes and functions of the Response instance to see if our request worked, and to parse the resulting text from it. Let's try this on our search_url string defined above."
   ]
  },
  {
   "cell_type": "code",
   "execution_count": 5,
   "id": "8f12d63b-481a-4a1c-9828-4ab212d061c5",
   "metadata": {},
   "outputs": [],
   "source": [
    "# create a Response instance from a request\n",
    "response = requests.get(search_url)\n",
    "# check that your request worked (200 = worked; other codes No))\n",
    "response.status_code \n",
    "# or, run this to check if it worked.\n",
    "# This would return an error message if it didn't work (else None)\n",
    "response.raise_for_status()"
   ]
  },
  {
   "cell_type": "code",
   "execution_count": null,
   "id": "ebaf76b7-7a6c-4998-860e-0d64fd13c86a",
   "metadata": {},
   "outputs": [],
   "source": []
  }
 ],
 "metadata": {
  "kernelspec": {
   "display_name": "Python 3 (ipykernel)",
   "language": "python",
   "name": "python3"
  },
  "language_info": {
   "codemirror_mode": {
    "name": "ipython",
    "version": 3
   },
   "file_extension": ".py",
   "mimetype": "text/x-python",
   "name": "python",
   "nbconvert_exporter": "python",
   "pygments_lexer": "ipython3",
   "version": "3.10.12"
  }
 },
 "nbformat": 4,
 "nbformat_minor": 5
}
